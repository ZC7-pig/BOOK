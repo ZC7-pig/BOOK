{
 "cells": [
  {
   "cell_type": "code",
   "execution_count": 1,
   "metadata": {},
   "outputs": [],
   "source": [
    "class treeNode:\n",
    "    def __init__(self, nameValue, numOccur, parentNode):\n",
    "        self.name = nameValue       #名字变量\n",
    "        self.count = numOccur       #计数变量（频率）\n",
    "        self.nodeLink = None        #链接相似元素项\n",
    "        self.parent = parentNode    #当前父节点\n",
    "        self.children = {}          #用于存放子节点\n",
    "    \n",
    "    def inc(self, numOccur):\n",
    "        self.count += numOccur\n",
    "        \n",
    "    def disp(self, ind=1):\n",
    "        print('  '*ind, self.name, ' ', self.count)\n",
    "        for child in self.children.values():\n",
    "            child.disp(ind+1)         #子节点向右缩减"
   ]
  },
  {
   "cell_type": "code",
   "execution_count": 2,
   "metadata": {},
   "outputs": [],
   "source": [
    "def loadSimpDat():\n",
    "    simpDat = [['r', 'z', 'h', 'j', 'p'],\n",
    "               ['z', 'y', 'x', 'w', 'v', 'u', 't', 's'],\n",
    "               ['z'],\n",
    "               ['r', 'x', 'n', 'o', 's'],\n",
    "               ['y', 'r', 'x', 'z', 'q', 't', 'p'],\n",
    "               ['y', 'z', 'x', 'e', 'q', 's', 't', 'm']]\n",
    "    return simpDat"
   ]
  },
  {
   "cell_type": "code",
   "execution_count": 3,
   "metadata": {},
   "outputs": [],
   "source": [
    "def createInitSet(dataSet):\n",
    "    retDict = {}\n",
    "    for trans in dataSet:\n",
    "        fset = frozenset(trans)\n",
    "        retDict.setdefault(fset, 0)\n",
    "        retDict[fset] += 1\n",
    "    return retDict"
   ]
  },
  {
   "cell_type": "code",
   "execution_count": 4,
   "metadata": {},
   "outputs": [],
   "source": [
    "def updateHeader(nodeToTest, targetNode):  \n",
    "    while (nodeToTest.nodeLink != None):  \n",
    "        nodeToTest = nodeToTest.nodeLink\n",
    "    nodeToTest.nodeLink = targetNode"
   ]
  },
  {
   "cell_type": "code",
   "execution_count": 5,
   "metadata": {},
   "outputs": [],
   "source": [
    "def updateTree(items, myTree, headerTable, count):\n",
    "    if items[0] in myTree.children:  \n",
    "        myTree.children[items[0]].inc(count) \n",
    "    else:  \n",
    "        myTree.children[items[0]] = treeNode(items[0], count, myTree)\n",
    "        if headerTable[items[0]][1] == None: \n",
    "            headerTable[items[0]][1] = myTree.children[items[0]]\n",
    "        else:\n",
    "            updateHeader(headerTable[items[0]][1], myTree.children[items[0]])\n",
    "    if len(items) > 1:  \n",
    "        updateTree(items[1:], myTree.children[items[0]], headerTable, count)"
   ]
  },
  {
   "cell_type": "code",
   "execution_count": 6,
   "metadata": {},
   "outputs": [],
   "source": [
    "def createTree(dataSet, minSup=1):\n",
    "    headerTable = {}\n",
    "    #第一次遍历数据集， 记录每个数据项的支持度\n",
    "    for trans in dataSet:\n",
    "        for item in trans:\n",
    "            headerTable[item] = headerTable.get(item, 0) + 1\n",
    "    \n",
    "    #根据最小支持度过滤\n",
    "    lessThanMinsup = list(filter(lambda k:headerTable[k] < minSup, headerTable.keys()))\n",
    "    for k in lessThanMinsup: \n",
    "        del(headerTable[k])\n",
    "    freqItemSet = set(headerTable.keys())\n",
    "    \n",
    "    #如果所有数据都不满足最小支持度，返回None, None\n",
    "    if len(freqItemSet) == 0:\n",
    "        return None, None\n",
    "    for k in headerTable:\n",
    "        headerTable[k] = [headerTable[k], None]\n",
    "    myTree = treeNode('φ', 1, None)\n",
    "   \n",
    "   #第二次遍历数据集，构建fp-tree\n",
    "    for tranSet, count in dataSet.items():\n",
    "        #根据最小支持度处理一条训练样本，key:样本中的一个样例，value:该样例的的全局支持度\n",
    "        localD = {}\n",
    "        for item in tranSet:\n",
    "            if item in freqItemSet:\n",
    "                localD[item] = headerTable[item][0]\n",
    "        if len(localD) > 0:\n",
    "            #根据全局频繁项对每个事务中的数据进行排序,等价于 order by p[1] desc, p[0] desc\n",
    "            orderedItems = [v[0] for v in sorted(localD.items(), key=lambda p: (p[1],p[0]), reverse=True)]\n",
    "            updateTree(orderedItems, myTree, headerTable, count)\n",
    "    return myTree, headerTable"
   ]
  },
  {
   "cell_type": "code",
   "execution_count": 7,
   "metadata": {},
   "outputs": [],
   "source": [
    "def ascendTree(leafNode, prefixPath):\n",
    "    if leafNode.parent != None:\n",
    "        prefixPath.append(leafNode.name)\n",
    "        ascendTree(leafNode.parent, prefixPath)"
   ]
  },
  {
   "cell_type": "code",
   "execution_count": 8,
   "metadata": {},
   "outputs": [],
   "source": [
    "def findPrefixPath(basePat, headerTable):\n",
    "    condPats = {}\n",
    "    treeNode = headerTable[basePat][1]\n",
    "    while treeNode != None:\n",
    "        prefixPath = []\n",
    "        ascendTree(treeNode, prefixPath)\n",
    "        if len(prefixPath) > 1:\n",
    "            condPats[frozenset(prefixPath[1:])] = treeNode.count\n",
    "        treeNode = treeNode.nodeLink\n",
    "    return condPats"
   ]
  },
  {
   "cell_type": "code",
   "execution_count": 9,
   "metadata": {},
   "outputs": [],
   "source": [
    "def mineTree(inTree, headerTable, minSup=1, preFix=set([]), freqItemList=[]):\n",
    "    #排序minSup asc, value asc\n",
    "    bigL = [v[0] for v in sorted(headerTable.items(), key=lambda p: (p[1][0],p[0]))]\n",
    "    for basePat in bigL:\n",
    "        newFreqSet = preFix.copy()\n",
    "        newFreqSet.add(basePat)\n",
    "        freqItemList.append(newFreqSet)\n",
    "        # 通过条件模式基找到的频繁项集\n",
    "        condPattBases = findPrefixPath(basePat, headerTable)\n",
    "        myCondTree, myHead = createTree(condPattBases, minSup)\n",
    "        if myHead != None:\n",
    "            print('condPattBases: ', basePat, condPattBases)\n",
    "            myCondTree.disp()\n",
    "            print('*' * 30)\n",
    "            mineTree(myCondTree, myHead, minSup, newFreqSet, freqItemList)"
   ]
  },
  {
   "cell_type": "code",
   "execution_count": 10,
   "metadata": {},
   "outputs": [
    {
     "name": "stdout",
     "output_type": "stream",
     "text": [
      "   φ   1\n",
      "     z   5\n",
      "       r   1\n",
      "       x   3\n",
      "         y   3\n",
      "           t   3\n",
      "             s   2\n",
      "             r   1\n",
      "     x   1\n",
      "       s   1\n",
      "         r   1\n"
     ]
    }
   ],
   "source": [
    "simpDat = loadSimpDat()\n",
    "dictDat = createInitSet(simpDat)\n",
    "myFPTree,myheader = createTree(dictDat, 3)\n",
    "myFPTree.disp()"
   ]
  },
  {
   "cell_type": "code",
   "execution_count": 15,
   "metadata": {},
   "outputs": [
    {
     "name": "stdout",
     "output_type": "stream",
     "text": [
      "condPattBases:  r {frozenset({'z'}): 1, frozenset({'s', 'x'}): 1, frozenset({'t', 'z', 'y', 'x'}): 1}\n",
      "   φ   1\n",
      "     z   2\n",
      "       x   1\n",
      "     x   1\n",
      "******************************\n",
      "condPattBases:  s {frozenset({'t', 'z', 'y', 'x'}): 2, frozenset({'x'}): 1}\n",
      "   φ   1\n",
      "     x   3\n",
      "******************************\n"
     ]
    }
   ],
   "source": [
    "mineTree(myFPTree, myheader, 2)"
   ]
  },
  {
   "cell_type": "code",
   "execution_count": null,
   "metadata": {},
   "outputs": [],
   "source": []
  },
  {
   "cell_type": "code",
   "execution_count": null,
   "metadata": {},
   "outputs": [],
   "source": []
  }
 ],
 "metadata": {
  "kernelspec": {
   "display_name": "Python 3",
   "language": "python",
   "name": "python3"
  },
  "language_info": {
   "codemirror_mode": {
    "name": "ipython",
    "version": 3
   },
   "file_extension": ".py",
   "mimetype": "text/x-python",
   "name": "python",
   "nbconvert_exporter": "python",
   "pygments_lexer": "ipython3",
   "version": "3.7.1"
  }
 },
 "nbformat": 4,
 "nbformat_minor": 2
}
